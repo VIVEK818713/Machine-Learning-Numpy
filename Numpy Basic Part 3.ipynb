{
 "cells": [
  {
   "cell_type": "code",
   "execution_count": 1,
   "metadata": {},
   "outputs": [],
   "source": [
    "import numpy as np"
   ]
  },
  {
   "cell_type": "markdown",
   "metadata": {},
   "source": [
    "# Python NumPy random module"
   ]
  },
  {
   "cell_type": "code",
   "execution_count": 2,
   "metadata": {},
   "outputs": [],
   "source": [
    "import random # import random module"
   ]
  },
  {
   "cell_type": "markdown",
   "metadata": {},
   "source": [
    "**np.random.random()**\n",
    "\n",
    "*This function generates float value between 0.0 to 1.0 and returns ndarray if you will give shape.*"
   ]
  },
  {
   "cell_type": "code",
   "execution_count": 5,
   "metadata": {},
   "outputs": [
    {
     "name": "stdout",
     "output_type": "stream",
     "text": [
      "[0.96317771]\n"
     ]
    }
   ],
   "source": [
    "x = np.random.random(1)\n",
    "print(x)"
   ]
  },
  {
   "cell_type": "code",
   "execution_count": 6,
   "metadata": {},
   "outputs": [
    {
     "name": "stdout",
     "output_type": "stream",
     "text": [
      "[[0.17902977 0.84583536 0.71878124]\n",
      " [0.67189622 0.16153655 0.55810622]\n",
      " [0.48766352 0.08423788 0.0411775 ]]\n"
     ]
    }
   ],
   "source": [
    "y =  np.random.random((3,3))\n",
    "print(y)"
   ]
  },
  {
   "cell_type": "markdown",
   "metadata": {},
   "source": [
    "**np.random.randint()**\n",
    "\n",
    "*The random integer function generates single random integer number from given range and if the shape will give then return ndarray.*"
   ]
  },
  {
   "cell_type": "code",
   "execution_count": 8,
   "metadata": {},
   "outputs": [
    {
     "name": "stdout",
     "output_type": "stream",
     "text": [
      "1\n"
     ]
    }
   ],
   "source": [
    "rd_no = np.random.randint(1,4)\n",
    "print(rd_no)"
   ]
  },
  {
   "cell_type": "code",
   "execution_count": 10,
   "metadata": {},
   "outputs": [
    {
     "name": "stdout",
     "output_type": "stream",
     "text": [
      "[[3 1 3 1]\n",
      " [2 2 1 3]\n",
      " [2 3 2 3]\n",
      " [1 1 2 1]]\n"
     ]
    }
   ],
   "source": [
    "rd_2D = np.random.randint(1,4, (4,4))\n",
    "print(rd_2D)"
   ]
  },
  {
   "cell_type": "code",
   "execution_count": 11,
   "metadata": {},
   "outputs": [
    {
     "name": "stdout",
     "output_type": "stream",
     "text": [
      "[[[3 2 1 2]\n",
      "  [1 1 1 3]\n",
      "  [2 2 3 2]\n",
      "  [1 3 3 1]]\n",
      "\n",
      " [[3 1 3 2]\n",
      "  [1 3 2 2]\n",
      "  [3 2 3 2]\n",
      "  [3 3 1 1]]]\n"
     ]
    }
   ],
   "source": [
    "rd_3D = np.random.randint(1,4, (2,4,4))\n",
    "print(rd_3D)"
   ]
  },
  {
   "cell_type": "markdown",
   "metadata": {},
   "source": [
    "**np.random.seed()**\n",
    "\n",
    "*The random module generates random number but next time you want to generate the same number then seed() will help.*"
   ]
  },
  {
   "cell_type": "code",
   "execution_count": 12,
   "metadata": {},
   "outputs": [
    {
     "name": "stdout",
     "output_type": "stream",
     "text": [
      "[[[2 2 1 1]\n",
      "  [2 1 2 2]\n",
      "  [1 2 2 3]\n",
      "  [1 2 1 3]]\n",
      "\n",
      " [[1 3 1 1]\n",
      "  [1 3 1 3]\n",
      "  [3 2 1 1]\n",
      "  [3 2 3 2]]]\n"
     ]
    }
   ],
   "source": [
    "np.random.seed(10)\n",
    "rd_3D = np.random.randint(1,4, (2,4,4))\n",
    "print(rd_3D)\n"
   ]
  },
  {
   "cell_type": "markdown",
   "metadata": {},
   "source": [
    "**Next time generate the same 3D array using the same seed value (10).**\n",
    "\n",
    "*Note: The seed function accepts value up to  2^32 -1 (4294967295).*\n"
   ]
  },
  {
   "cell_type": "code",
   "execution_count": 13,
   "metadata": {},
   "outputs": [
    {
     "name": "stdout",
     "output_type": "stream",
     "text": [
      "[[[2 2 1 1]\n",
      "  [2 1 2 2]\n",
      "  [1 2 2 3]\n",
      "  [1 2 1 3]]\n",
      "\n",
      " [[1 3 1 1]\n",
      "  [1 3 1 3]\n",
      "  [3 2 1 1]\n",
      "  [3 2 3 2]]]\n"
     ]
    }
   ],
   "source": [
    "np.random.seed(10)\n",
    "rd_3D = np.random.randint(1,4, (2,4,4))\n",
    "print(rd_3D)\n"
   ]
  },
  {
   "cell_type": "markdown",
   "metadata": {},
   "source": [
    "**np.random.rand()**\n",
    "\n",
    "*The rand() function work like random() but it accept shape and return ndarray which contain random values between 0.0 to 1.0.*"
   ]
  },
  {
   "cell_type": "code",
   "execution_count": 14,
   "metadata": {},
   "outputs": [
    {
     "name": "stdout",
     "output_type": "stream",
     "text": [
      "[[0.13145815 0.41366737 0.77872881]\n",
      " [0.58390137 0.18263144 0.82608225]\n",
      " [0.10540183 0.28357668 0.06556327]]\n"
     ]
    }
   ],
   "source": [
    "arr_2D = np.random.rand(3,3) # return  3 x 3 matrix\n",
    "print(arr_2D)\n"
   ]
  },
  {
   "cell_type": "markdown",
   "metadata": {},
   "source": [
    "**np.random.randn()**\n",
    "\n",
    "*The randn() function work like rand() function but it return samples of  standerd normalise distribution value.(it will give negative values also)*"
   ]
  },
  {
   "cell_type": "code",
   "execution_count": 15,
   "metadata": {},
   "outputs": [
    {
     "name": "stdout",
     "output_type": "stream",
     "text": [
      "[[ 0.67893119 -1.91355421 -0.94245806]\n",
      " [-1.74554298 -1.02094527 -0.16206903]\n",
      " [-0.6579709   0.42211306  0.62402334]]\n"
     ]
    }
   ],
   "source": [
    "arr_2D = np.random.randn(3,3)\n",
    "print(arr_2D)"
   ]
  },
  {
   "cell_type": "markdown",
   "metadata": {},
   "source": [
    "**np.random.choice()**\n",
    "\n",
    "*If you have sequence values and want to get random single value then the random choice() function is the best choice.*"
   ]
  },
  {
   "cell_type": "code",
   "execution_count": 16,
   "metadata": {},
   "outputs": [
    {
     "name": "stdout",
     "output_type": "stream",
     "text": [
      "1\n"
     ]
    }
   ],
   "source": [
    "x = [1,2,3,4] # list\n",
    "choice_x = np.random.choice(x) # return random single item from sequence\n",
    "print(choice_x )\n"
   ]
  },
  {
   "cell_type": "markdown",
   "metadata": {},
   "source": [
    "*Let’s try to get the number of choice from sequence x using for loop.*"
   ]
  },
  {
   "cell_type": "code",
   "execution_count": 17,
   "metadata": {},
   "outputs": [
    {
     "name": "stdout",
     "output_type": "stream",
     "text": [
      "1\n",
      "3\n",
      "1\n",
      "3\n",
      "3\n",
      "1\n",
      "4\n",
      "2\n",
      "1\n",
      "4\n",
      "2\n",
      "3\n",
      "3\n",
      "2\n",
      "3\n",
      "3\n",
      "4\n",
      "1\n",
      "1\n",
      "1\n"
     ]
    }
   ],
   "source": [
    "for i in range(20):\n",
    "    print(np.random.choice(x))"
   ]
  },
  {
   "cell_type": "markdown",
   "metadata": {},
   "source": [
    "**np.random.permutation()**\n",
    "\n",
    "*If you want to generate some permutation of sequence then use random permutation() function.*"
   ]
  },
  {
   "cell_type": "code",
   "execution_count": 19,
   "metadata": {},
   "outputs": [
    {
     "name": "stdout",
     "output_type": "stream",
     "text": [
      "[1 3 4 2]\n"
     ]
    }
   ],
   "source": [
    "x=[1,2,3,4]\n",
    "x1 = np.random.permutation(x)\n",
    "print(x1)"
   ]
  },
  {
   "cell_type": "markdown",
   "metadata": {},
   "source": [
    "# Python NumPy String Operations Methods"
   ]
  },
  {
   "cell_type": "markdown",
   "metadata": {},
   "source": [
    "**If you want to work on string data then NumPy string operations methods help to do work easy. The python NumPy support a bunch of string operations, string comparison, and string information methods.**"
   ]
  },
  {
   "cell_type": "code",
   "execution_count": 24,
   "metadata": {},
   "outputs": [],
   "source": [
    "x='learning ML is very good'\n",
    "y='ML is very easy'"
   ]
  },
  {
   "cell_type": "markdown",
   "metadata": {},
   "source": [
    "**np.char.add()**\n",
    "\n",
    "*This function use to add two strings.*"
   ]
  },
  {
   "cell_type": "code",
   "execution_count": 25,
   "metadata": {},
   "outputs": [
    {
     "name": "stdout",
     "output_type": "stream",
     "text": [
      "learning ML is very goodML is very easy\n"
     ]
    }
   ],
   "source": [
    "z=np.char.add(x,y)\n",
    "print(z)"
   ]
  },
  {
   "cell_type": "code",
   "execution_count": 27,
   "metadata": {},
   "outputs": [
    {
     "name": "stdout",
     "output_type": "stream",
     "text": [
      "learning ML is very goodML is very easy\n"
     ]
    }
   ],
   "source": [
    "# Or you can use\n",
    "print(x+y)"
   ]
  },
  {
   "cell_type": "markdown",
   "metadata": {},
   "source": [
    "**np.char.multiply()**\n",
    "\n",
    "*This function helps to duplicate string required number of times.*"
   ]
  },
  {
   "cell_type": "code",
   "execution_count": 29,
   "metadata": {},
   "outputs": [
    {
     "name": "stdout",
     "output_type": "stream",
     "text": [
      "learning ML is very goodlearning ML is very good\n"
     ]
    }
   ],
   "source": [
    "#Syntax: np.char.multiply(string_array, number)\n",
    "z=np.char.multiply(x,2)\n",
    "print(z)"
   ]
  },
  {
   "cell_type": "markdown",
   "metadata": {},
   "source": [
    "**np.char.capitalize()**\n",
    "\n",
    "*The capitalize() function convert given string’s first character in capital format.*"
   ]
  },
  {
   "cell_type": "code",
   "execution_count": 30,
   "metadata": {},
   "outputs": [
    {
     "name": "stdout",
     "output_type": "stream",
     "text": [
      "Learning ml is very good\n"
     ]
    }
   ],
   "source": [
    "print(np.char.capitalize(x))#only first character will be in capital letter"
   ]
  },
  {
   "cell_type": "markdown",
   "metadata": {},
   "source": [
    "**np.char.lower()**\n",
    "\n",
    "*The lower() function convert given string in lower case..*"
   ]
  },
  {
   "cell_type": "code",
   "execution_count": 31,
   "metadata": {},
   "outputs": [
    {
     "name": "stdout",
     "output_type": "stream",
     "text": [
      "learning ml is very good\n"
     ]
    }
   ],
   "source": [
    "print(np.char.lower(x))#all charcter will convert into lower case"
   ]
  },
  {
   "cell_type": "markdown",
   "metadata": {},
   "source": [
    "**np.char.upper()**\n",
    "\n",
    "*The upper() function convert given string in upper case..*"
   ]
  },
  {
   "cell_type": "code",
   "execution_count": 33,
   "metadata": {},
   "outputs": [
    {
     "name": "stdout",
     "output_type": "stream",
     "text": [
      "LEARNING ML IS VERY GOOD\n"
     ]
    }
   ],
   "source": [
    "print(np.char.upper(x))#all charcter will convert into upper case"
   ]
  },
  {
   "cell_type": "markdown",
   "metadata": {},
   "source": [
    "**np.char.title()**\n",
    "\n",
    "*The title() function convert given string in title format..*"
   ]
  },
  {
   "cell_type": "code",
   "execution_count": 34,
   "metadata": {},
   "outputs": [
    {
     "name": "stdout",
     "output_type": "stream",
     "text": [
      "Learning Ml Is Very Good\n"
     ]
    }
   ],
   "source": [
    "print(np.char.title(x))# all the first character will convert into captial letter"
   ]
  },
  {
   "cell_type": "markdown",
   "metadata": {},
   "source": [
    "**np.char.center()**\n",
    "\n",
    "*The center() function set the string in the center of given string length. If you want to fill the string’s side blank space. Then give fillchar parameter with character.*"
   ]
  },
  {
   "cell_type": "code",
   "execution_count": 36,
   "metadata": {},
   "outputs": [
    {
     "name": "stdout",
     "output_type": "stream",
     "text": [
      "        learning ML is very good        \n"
     ]
    }
   ],
   "source": [
    "print(np.char.center(x,40))#you have to specify the width(in our case we use 40)"
   ]
  },
  {
   "cell_type": "code",
   "execution_count": 37,
   "metadata": {},
   "outputs": [
    {
     "name": "stdout",
     "output_type": "stream",
     "text": [
      "********learning ML is very good********\n"
     ]
    }
   ],
   "source": [
    "print(np.char.center(x,40,fillchar='*'))"
   ]
  },
  {
   "cell_type": "markdown",
   "metadata": {},
   "source": [
    "**np.char.split()**\n",
    "\n",
    "*The split() function split the string in a list of items. By default split function split the string by space.*"
   ]
  },
  {
   "cell_type": "code",
   "execution_count": 38,
   "metadata": {},
   "outputs": [
    {
     "name": "stdout",
     "output_type": "stream",
     "text": [
      "['learning', 'ML', 'is', 'very', 'good']\n"
     ]
    }
   ],
   "source": [
    "print(np.char.split(x))"
   ]
  },
  {
   "cell_type": "markdown",
   "metadata": {},
   "source": [
    "**np.char.splitlines()**\n",
    "\n",
    "*The splitlines() function split the string by lines in a list as elements.*"
   ]
  },
  {
   "cell_type": "code",
   "execution_count": 39,
   "metadata": {},
   "outputs": [
    {
     "name": "stdout",
     "output_type": "stream",
     "text": [
      "['I', 'Am', 'Indian']\n"
     ]
    }
   ],
   "source": [
    "print(np.char.splitlines(\"I\\nAm\\nIndian\")) # splitlines string\n"
   ]
  },
  {
   "cell_type": "code",
   "execution_count": 40,
   "metadata": {},
   "outputs": [
    {
     "name": "stdout",
     "output_type": "stream",
     "text": [
      "['learning ML is very good']\n"
     ]
    }
   ],
   "source": [
    "print(np.char.splitlines(x))#here x is a single line so output will be as below"
   ]
  },
  {
   "cell_type": "markdown",
   "metadata": {},
   "source": [
    "**np.char.join()**\n",
    "\n",
    "*The join() function join the echa character of given sequence by seperator.*"
   ]
  },
  {
   "cell_type": "code",
   "execution_count": 43,
   "metadata": {},
   "outputs": [
    {
     "name": "stdout",
     "output_type": "stream",
     "text": [
      "['l:e:a:r:n:i:n:g: :M:L: :i:s: :v:e:r:y: :g:o:o:d'\n",
      " 'M/L/ /i/s/ /v/e/r/y/ /e/a/s/y']\n"
     ]
    }
   ],
   "source": [
    "print(np.char.join([\":\", \"/\"], [x,y]))"
   ]
  },
  {
   "cell_type": "code",
   "execution_count": 44,
   "metadata": {},
   "outputs": [
    {
     "name": "stdout",
     "output_type": "stream",
     "text": [
      "['v:i:v:e:k' 'k/u/m/a/r']\n"
     ]
    }
   ],
   "source": [
    "print(np.char.join([\":\", \"/\"], ['vivek','kumar']))"
   ]
  },
  {
   "cell_type": "markdown",
   "metadata": {},
   "source": [
    "**np.char.replace()**\n",
    "\n",
    "*The replace() function replace existing string by new given string.*"
   ]
  },
  {
   "cell_type": "code",
   "execution_count": 46,
   "metadata": {},
   "outputs": [
    {
     "name": "stdout",
     "output_type": "stream",
     "text": [
      "Learn ML is very good\n"
     ]
    }
   ],
   "source": [
    "print(np.char.replace(x, \"learning\", \"Learn\"))"
   ]
  },
  {
   "cell_type": "markdown",
   "metadata": {},
   "source": [
    "# Python NumPy String Comparison \n",
    "## The string comparison methods use to compare string with each other and return a boolean value."
   ]
  },
  {
   "cell_type": "markdown",
   "metadata": {},
   "source": [
    "**np.char.equal()**\n",
    "\n",
    "*The equal() function return “True” boolean value, If both strings are same else “False”.(or use double equal to operator)*"
   ]
  },
  {
   "cell_type": "code",
   "execution_count": 47,
   "metadata": {},
   "outputs": [
    {
     "name": "stdout",
     "output_type": "stream",
     "text": [
      "False\n"
     ]
    }
   ],
   "source": [
    "str = np.char.equal(x,y) # check equality\n",
    "print(str)"
   ]
  },
  {
   "cell_type": "code",
   "execution_count": 48,
   "metadata": {},
   "outputs": [
    {
     "data": {
      "text/plain": [
       "False"
      ]
     },
     "execution_count": 48,
     "metadata": {},
     "output_type": "execute_result"
    }
   ],
   "source": [
    "x==y"
   ]
  },
  {
   "cell_type": "markdown",
   "metadata": {},
   "source": [
    "**np.char.not_equal()**\n",
    "\n",
    "*The not_equal() function return “True” boolean value, If both strings are not same else “False”.*"
   ]
  },
  {
   "cell_type": "code",
   "execution_count": 49,
   "metadata": {},
   "outputs": [
    {
     "name": "stdout",
     "output_type": "stream",
     "text": [
      "True\n"
     ]
    }
   ],
   "source": [
    "str = np.char.not_equal(x,y) # check equality\n",
    "print(str)"
   ]
  },
  {
   "cell_type": "markdown",
   "metadata": {},
   "source": [
    "# Python NumPy string Information\n",
    "## The string information methods use to get information from the stings."
   ]
  },
  {
   "cell_type": "markdown",
   "metadata": {},
   "source": [
    "**np.char.count()**\n",
    "\n",
    "*The count() function count string from an existing string and return number.*"
   ]
  },
  {
   "cell_type": "code",
   "execution_count": 51,
   "metadata": {},
   "outputs": [
    {
     "name": "stdout",
     "output_type": "stream",
     "text": [
      "6\n"
     ]
    }
   ],
   "source": [
    "str1='hi indians say hi to india'\n",
    "print(np.char.count(str1,'i'))"
   ]
  },
  {
   "cell_type": "markdown",
   "metadata": {},
   "source": [
    "**np.char.find()**\n",
    "\n",
    "*The find() function find given string from an existing string and return the index of the first character of that string*"
   ]
  },
  {
   "cell_type": "code",
   "execution_count": 54,
   "metadata": {},
   "outputs": [
    {
     "name": "stdout",
     "output_type": "stream",
     "text": [
      "1\n"
     ]
    }
   ],
   "source": [
    "print(np.char.find(str1,'i'))"
   ]
  },
  {
   "cell_type": "code",
   "execution_count": 58,
   "metadata": {},
   "outputs": [
    {
     "name": "stdout",
     "output_type": "stream",
     "text": [
      "-1\n"
     ]
    }
   ],
   "source": [
    "print(np.char.find(str1,'zip'))"
   ]
  },
  {
   "cell_type": "markdown",
   "metadata": {},
   "source": [
    "**np.char.index()**\n",
    "\n",
    "*The index() function find an index of a given string from an existing string and return the index of the first character of that string. If string will not found then return ValueError.*\n",
    "**so this is the basic differnce between index() and find() if you are using find() and string does not exist then index will give -1 value but in the case of index it will give a value error.**"
   ]
  },
  {
   "cell_type": "code",
   "execution_count": 57,
   "metadata": {},
   "outputs": [
    {
     "name": "stdout",
     "output_type": "stream",
     "text": [
      "0\n"
     ]
    }
   ],
   "source": [
    "print(np.char.index(str1,'hi'))"
   ]
  },
  {
   "cell_type": "code",
   "execution_count": 60,
   "metadata": {},
   "outputs": [],
   "source": [
    "#  try this\n",
    "#print(np.char.index(str1,'zip'))"
   ]
  },
  {
   "cell_type": "markdown",
   "metadata": {},
   "source": [
    "**np.char.isdecimal()**\n",
    "\n",
    "*The isdecimal() function return “True”. If the string contains each and every character are decimal.*"
   ]
  },
  {
   "cell_type": "code",
   "execution_count": 61,
   "metadata": {},
   "outputs": [
    {
     "name": "stdout",
     "output_type": "stream",
     "text": [
      "False\n"
     ]
    }
   ],
   "source": [
    "print(np.char.isdecimal(\"Hello\") )"
   ]
  },
  {
   "cell_type": "markdown",
   "metadata": {},
   "source": [
    "**np.char.isdigit()**\n",
    "\n",
    "*The isdigit() function return “True”. If the string contains each and every character are digits.*"
   ]
  },
  {
   "cell_type": "code",
   "execution_count": 62,
   "metadata": {},
   "outputs": [
    {
     "name": "stdout",
     "output_type": "stream",
     "text": [
      "False\n"
     ]
    }
   ],
   "source": [
    "print(np.char.isdigit(\"Hello\") )"
   ]
  },
  {
   "cell_type": "markdown",
   "metadata": {},
   "source": [
    "**np.char.islower()**\n",
    "\n",
    "*The islower() function return “True”. If string contain each and every character in lowercase.*"
   ]
  },
  {
   "cell_type": "code",
   "execution_count": 63,
   "metadata": {},
   "outputs": [
    {
     "name": "stdout",
     "output_type": "stream",
     "text": [
      "False\n"
     ]
    }
   ],
   "source": [
    "print(np.char.islower(\"Hello\") )"
   ]
  },
  {
   "cell_type": "markdown",
   "metadata": {},
   "source": [
    "**np.char.isupper()**\n",
    "\n",
    "*The isupper() function return “True”. If string contain each and every character in uppercase.*"
   ]
  },
  {
   "cell_type": "code",
   "execution_count": 64,
   "metadata": {},
   "outputs": [
    {
     "name": "stdout",
     "output_type": "stream",
     "text": [
      "False\n"
     ]
    }
   ],
   "source": [
    "print(np.char.isupper(\"Hello\") )"
   ]
  },
  {
   "cell_type": "markdown",
   "metadata": {},
   "source": [
    "**np.char.isnumeric()**\n",
    "\n",
    "*The isnumeric() function return “True”. If string contain each and every character in numeric form.*"
   ]
  },
  {
   "cell_type": "code",
   "execution_count": 65,
   "metadata": {},
   "outputs": [
    {
     "name": "stdout",
     "output_type": "stream",
     "text": [
      "False\n"
     ]
    }
   ],
   "source": [
    "print(np.char.isnumeric(\"Hello\") )"
   ]
  },
  {
   "cell_type": "markdown",
   "metadata": {},
   "source": [
    "**np.char.isspace()**\n",
    "\n",
    "*The isspace() function return “True”. If string contain blank space.*"
   ]
  },
  {
   "cell_type": "code",
   "execution_count": 72,
   "metadata": {},
   "outputs": [
    {
     "name": "stdout",
     "output_type": "stream",
     "text": [
      "False\n"
     ]
    }
   ],
   "source": [
    "print(np.char.isspace(\"Hello\") )"
   ]
  },
  {
   "cell_type": "code",
   "execution_count": 74,
   "metadata": {},
   "outputs": [
    {
     "name": "stdout",
     "output_type": "stream",
     "text": [
      "True\n"
     ]
    }
   ],
   "source": [
    "print(np.char.isspace(\" \") )"
   ]
  },
  {
   "cell_type": "code",
   "execution_count": null,
   "metadata": {},
   "outputs": [],
   "source": []
  }
 ],
 "metadata": {
  "kernelspec": {
   "display_name": "Python 3",
   "language": "python",
   "name": "python3"
  },
  "language_info": {
   "codemirror_mode": {
    "name": "ipython",
    "version": 3
   },
   "file_extension": ".py",
   "mimetype": "text/x-python",
   "name": "python",
   "nbconvert_exporter": "python",
   "pygments_lexer": "ipython3",
   "version": "3.7.3"
  }
 },
 "nbformat": 4,
 "nbformat_minor": 4
}
